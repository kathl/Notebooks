{
 "cells": [
  {
   "cell_type": "code",
   "execution_count": 2,
   "metadata": {},
   "outputs": [],
   "source": [
    "from astroquery.vizier import Vizier\n",
    "import pyvo"
   ]
  },
  {
   "cell_type": "markdown",
   "metadata": {},
   "source": [
    "## Get entire table with Astroquery"
   ]
  },
  {
   "cell_type": "markdown",
   "metadata": {},
   "source": [
    "First find out about the VizieR ID of your table of interest. "
   ]
  },
  {
   "cell_type": "code",
   "execution_count": 3,
   "metadata": {},
   "outputs": [
    {
     "name": "stdout",
     "output_type": "stream",
     "text": [
      "J/ApJ/700/1299 :  Gas-phase element depletions in the ISM (Jenkins, 2009)\n",
      "J/ApJ/704/975 :  Rotational velocities for M dwarfs (Jenkins+, 2009)\n",
      "J/ApJS/176/59 :  FUSE survey of OVI in the disk of the Milky Way (Bowen+, 2008)\n",
      "J/ApJS/177/39 :  Survey of low-redshift OVI absorbers (Tripp+, 2008)\n",
      "J/PASJ/52/997 :  VSOP 5 GHz AGN Survey (Hirabayashi+, 2000)\n"
     ]
    }
   ],
   "source": [
    "catalog_list = Vizier.find_catalogs('Jenkins 2009')\n",
    "for k, v in catalog_list.items():\n",
    "    print(k, ': ', v.description)"
   ]
  },
  {
   "cell_type": "markdown",
   "metadata": {},
   "source": [
    "Now we know that we are after the catalogue called `J/ApJ/700/1299`. If you would now do `get_catalogs` you'd only get 50 rows in each table. So we first set the row limit to infinity (a bit angerous with things like Gaia but fine for our purpose). Then we download the entire catalogue made up of 7 tables. For more details on restricting for certain columns, or certain values, see here: https://astroquery.readthedocs.io/en/latest/vizier/vizier.html"
   ]
  },
  {
   "cell_type": "code",
   "execution_count": 6,
   "metadata": {},
   "outputs": [
    {
     "data": {
      "text/plain": [
       "TableList with 7 tables:\n",
       "\t'0:J/ApJ/700/1299/table4' with 15 column(s) and 16 row(s) \n",
       "\t'1:J/ApJ/700/1299/table2' with 15 column(s) and 276 row(s) \n",
       "\t'2:J/ApJ/700/1299/table5' with 14 column(s) and 239 row(s) \n",
       "\t'3:J/ApJ/700/1299/table6' with 15 column(s) and 29 row(s) \n",
       "\t'4:J/ApJ/700/1299/table7' with 12 column(s) and 1475 row(s) \n",
       "\t'5:J/ApJ/700/1299/refs' with 4 column(s) and 140 row(s) \n",
       "\t'6:J/ApJ/700/1299/notes' with 2 column(s) and 44 row(s) "
      ]
     },
     "execution_count": 6,
     "metadata": {},
     "output_type": "execute_result"
    }
   ],
   "source": [
    "Vizier.ROW_LIMIT = -1\n",
    "catalog = Vizier.get_catalogs('J/ApJ/700/1299')\n",
    "catalog"
   ]
  },
  {
   "cell_type": "markdown",
   "metadata": {},
   "source": [
    "We got a list of tables, to get table5, we just pick the third entry. It is immediately an astropy Table object and you can handle it like any astrop Table"
   ]
  },
  {
   "cell_type": "code",
   "execution_count": 7,
   "metadata": {},
   "outputs": [
    {
     "name": "stdout",
     "output_type": "stream",
     "text": [
      "<class 'astropy.table.table.Table'>\n"
     ]
    },
    {
     "data": {
      "text/html": [
       "<i>Table length=239</i>\n",
       "<table id=\"table139786044574856\" class=\"table-striped table-bordered table-condensed\">\n",
       "<thead><tr><th>HD</th><th>Vcomp</th><th>Name</th><th>b_logNHo</th><th>logNHo</th><th>B_logNHo</th><th>F_o</th><th>e_F_o</th><th>logNHs</th><th>e_logNHs</th><th>F_s</th><th>e_F_s</th><th>Prob</th><th>El</th></tr></thead>\n",
       "<thead><tr><th></th><th>km / s</th><th></th><th>[cm-2]</th><th>[cm-2]</th><th>[cm-2]</th><th></th><th></th><th>[cm-2]</th><th>[cm-2]</th><th></th><th></th><th></th><th></th></tr></thead>\n",
       "<thead><tr><th>int32</th><th>int16</th><th>bytes16</th><th>float32</th><th>float32</th><th>float32</th><th>float32</th><th>float32</th><th>float32</th><th>float32</th><th>float32</th><th>float32</th><th>float32</th><th>bytes41</th></tr></thead>\n",
       "<tr><td>1383</td><td>--</td><td>HD 1383</td><td>21.43</td><td>21.50</td><td>21.58</td><td>0.61</td><td>0.04</td><td>21.49</td><td>0.08</td><td>0.59</td><td>0.08</td><td>0.510</td><td>O Mg Mn Ni Cu Ge</td></tr>\n",
       "<tr><td>2905</td><td>--</td><td>{kappa} Cas</td><td>21.17</td><td>21.29</td><td>21.40</td><td>0.58</td><td>0.06</td><td>21.00</td><td>0.26</td><td>0.41</td><td>0.14</td><td>0.989</td><td>Mg Cl Ti Mn Fe Ni Cu</td></tr>\n",
       "<tr><td>5394</td><td>--</td><td>{gamma} Cas</td><td>20.06</td><td>20.16</td><td>20.24</td><td>0.52</td><td>0.04</td><td>20.15</td><td>0.05</td><td>0.51</td><td>0.05</td><td>0.306</td><td>N O Mg P Cl Ti Mn Fe</td></tr>\n",
       "<tr><td>12323</td><td>--</td><td>HD 12323</td><td>21.21</td><td>21.29</td><td>21.36</td><td>0.52</td><td>0.04</td><td>21.24</td><td>0.08</td><td>0.48</td><td>0.07</td><td>0.011</td><td>O Mg Mn Fe Ni Cu Ge</td></tr>\n",
       "<tr><td>13268</td><td>--</td><td>HD 13268</td><td>21.35</td><td>21.42</td><td>21.49</td><td>0.51</td><td>0.04</td><td>21.38</td><td>0.07</td><td>0.48</td><td>0.08</td><td>0.147</td><td>O Mg Mn Ni Cu Ge</td></tr>\n",
       "<tr><td>13745</td><td>--</td><td>HD 13745</td><td>21.30</td><td>21.37</td><td>21.45</td><td>0.43</td><td>0.07</td><td>--</td><td>--</td><td>--</td><td>--</td><td>--</td><td>Mg Fe</td></tr>\n",
       "<tr><td>14434</td><td>--</td><td>HD 14434</td><td>21.40</td><td>21.47</td><td>21.54</td><td>0.52</td><td>0.04</td><td>21.45</td><td>0.09</td><td>0.51</td><td>0.09</td><td>0.301</td><td>O Mg Mn Ni Cu</td></tr>\n",
       "<tr><td>15137</td><td>--</td><td>HD 15137</td><td>21.10</td><td>21.22</td><td>21.35</td><td>0.37</td><td>0.09</td><td>--</td><td>--</td><td>--</td><td>--</td><td>--</td><td>Mg Fe</td></tr>\n",
       "<tr><td>18100</td><td>--</td><td>HD 18100</td><td>20.02</td><td>20.15</td><td>20.29</td><td>0.14</td><td>0.04</td><td>19.75</td><td>0.09</td><td>-0.21</td><td>0.08</td><td>0.000</td><td>Mg Si P Cr Mn Fe Ni Zn</td></tr>\n",
       "<tr><td>...</td><td>...</td><td>...</td><td>...</td><td>...</td><td>...</td><td>...</td><td>...</td><td>...</td><td>...</td><td>...</td><td>...</td><td>...</td><td>...</td></tr>\n",
       "<tr><td>220057</td><td>--</td><td>HD 220057</td><td>21.02</td><td>21.16</td><td>21.26</td><td>0.75</td><td>0.05</td><td>21.21</td><td>0.06</td><td>0.83</td><td>0.06</td><td>0.131</td><td>N O Mg P Mn Ni Cu Ge Kr</td></tr>\n",
       "<tr><td>224151</td><td>--</td><td>V373 Cas</td><td>21.40</td><td>21.46</td><td>21.52</td><td>0.46</td><td>0.04</td><td>21.40</td><td>0.04</td><td>0.42</td><td>0.05</td><td>0.666</td><td>N O Mg P Fe Kr</td></tr>\n",
       "<tr><td>224572</td><td>--</td><td>{sigma} Cas</td><td>20.87</td><td>20.98</td><td>21.07</td><td>0.76</td><td>0.07</td><td>21.09</td><td>0.39</td><td>0.86</td><td>0.40</td><td>0.559</td><td>Mg P Cl Mn Fe Cu</td></tr>\n",
       "<tr><td>232522</td><td>--</td><td>HDE 232522</td><td>21.14</td><td>21.19</td><td>21.24</td><td>0.44</td><td>0.03</td><td>21.07</td><td>0.08</td><td>0.33</td><td>0.08</td><td>0.797</td><td>O Mg Mn Ni Ge</td></tr>\n",
       "<tr><td>303308</td><td>--</td><td>HDE 303308</td><td>21.41</td><td>21.48</td><td>21.54</td><td>0.38</td><td>0.04</td><td>21.37</td><td>0.05</td><td>0.30</td><td>0.05</td><td>0.169</td><td>O Mg Ti Fe Kr</td></tr>\n",
       "<tr><td>308813</td><td>--</td><td>HDE 308813</td><td>21.21</td><td>21.29</td><td>21.36</td><td>0.49</td><td>0.04</td><td>21.22</td><td>0.08</td><td>0.43</td><td>0.08</td><td>0.679</td><td>O Mg Mn Ni Cu Ge</td></tr>\n",
       "<tr><td>--</td><td>--</td><td>BD +35 4258</td><td>21.20</td><td>21.30</td><td>21.39</td><td>0.40</td><td>0.08</td><td>--</td><td>--</td><td>--</td><td>--</td><td>--</td><td>Mg Fe</td></tr>\n",
       "<tr><td>--</td><td>--</td><td>BD +53 2820</td><td>21.31</td><td>21.39</td><td>21.47</td><td>0.43</td><td>0.05</td><td>21.23</td><td>0.10</td><td>0.27</td><td>0.09</td><td>0.204</td><td>O Mn Ni Cu Ge</td></tr>\n",
       "<tr><td>--</td><td>--</td><td>CPD -59 2603</td><td>21.11</td><td>21.20</td><td>21.30</td><td>0.17</td><td>0.06</td><td>--</td><td>--</td><td>--</td><td>--</td><td>--</td><td>Mg Fe</td></tr>\n",
       "<tr><td>--</td><td>--</td><td>CPD -69 1743</td><td>21.08</td><td>21.16</td><td>21.24</td><td>0.42</td><td>0.05</td><td>21.02</td><td>0.09</td><td>0.30</td><td>0.09</td><td>0.113</td><td>O Mn Ni Cu Ge</td></tr>\n",
       "</table>"
      ],
      "text/plain": [
       "<Table length=239>\n",
       "  HD   Vcomp      Name     b_logNHo ...  e_F_s    Prob             El          \n",
       "       km / s               [cm-2]  ...                                        \n",
       "int32  int16    bytes16    float32  ... float32 float32         bytes41        \n",
       "------ ------ ------------ -------- ... ------- ------- -----------------------\n",
       "  1383     --      HD 1383    21.43 ...    0.08   0.510        O Mg Mn Ni Cu Ge\n",
       "  2905     --  {kappa} Cas    21.17 ...    0.14   0.989    Mg Cl Ti Mn Fe Ni Cu\n",
       "  5394     --  {gamma} Cas    20.06 ...    0.05   0.306    N O Mg P Cl Ti Mn Fe\n",
       " 12323     --     HD 12323    21.21 ...    0.07   0.011     O Mg Mn Fe Ni Cu Ge\n",
       " 13268     --     HD 13268    21.35 ...    0.08   0.147        O Mg Mn Ni Cu Ge\n",
       " 13745     --     HD 13745    21.30 ...      --      --                   Mg Fe\n",
       " 14434     --     HD 14434    21.40 ...    0.09   0.301           O Mg Mn Ni Cu\n",
       " 15137     --     HD 15137    21.10 ...      --      --                   Mg Fe\n",
       " 18100     --     HD 18100    20.02 ...    0.08   0.000  Mg Si P Cr Mn Fe Ni Zn\n",
       "   ...    ...          ...      ... ...     ...     ...                     ...\n",
       "220057     --    HD 220057    21.02 ...    0.06   0.131 N O Mg P Mn Ni Cu Ge Kr\n",
       "224151     --     V373 Cas    21.40 ...    0.05   0.666          N O Mg P Fe Kr\n",
       "224572     --  {sigma} Cas    20.87 ...    0.40   0.559        Mg P Cl Mn Fe Cu\n",
       "232522     --   HDE 232522    21.14 ...    0.08   0.797           O Mg Mn Ni Ge\n",
       "303308     --   HDE 303308    21.41 ...    0.05   0.169           O Mg Ti Fe Kr\n",
       "308813     --   HDE 308813    21.21 ...    0.08   0.679        O Mg Mn Ni Cu Ge\n",
       "    --     --  BD +35 4258    21.20 ...      --      --                   Mg Fe\n",
       "    --     --  BD +53 2820    21.31 ...    0.09   0.204           O Mn Ni Cu Ge\n",
       "    --     -- CPD -59 2603    21.11 ...      --      --                   Mg Fe\n",
       "    --     -- CPD -69 1743    21.08 ...    0.09   0.113           O Mn Ni Cu Ge"
      ]
     },
     "execution_count": 7,
     "metadata": {},
     "output_type": "execute_result"
    }
   ],
   "source": [
    "table5 = catalog[2]\n",
    "print(type(table5))\n",
    "table5"
   ]
  },
  {
   "cell_type": "markdown",
   "metadata": {},
   "source": [
    "## Get entire table with pyVO\n",
    "This is a second, more general package that allows to access all Virtual Observatory compliant services with ADQL queries (if you haven't hear of it, it's like SQL but optimised for astronomy).\n",
    "\n",
    "First we need to tell it where we can access the VizieR TAP (Table access protocol) point. Then we ask for all tables in VizieR that have a name similar to the one, we are looking for. Note that here we are looking at individual tables rather than catalogs. So table5 would have its own entry. The `%` symbols are wildcards. "
   ]
  },
  {
   "cell_type": "code",
   "execution_count": 18,
   "metadata": {},
   "outputs": [
    {
     "data": {
      "text/html": [
       "<i>Table length=4</i>\n",
       "<table id=\"table139786043448736\" class=\"table-striped table-bordered table-condensed\">\n",
       "<thead><tr><th>table_name</th><th>description</th></tr></thead>\n",
       "<thead><tr><th>bytes36</th><th>object</th></tr></thead>\n",
       "<tr><td>J/A+A/621/A112/table5</td><td>Parameters and abundances for all target stars ( Pavlenko Y.V., Kaminsky B.M., Jenkins J.S., Ivanyuk O.M., Jones H.R.A., Lyubchik Y.P.)</td></tr>\n",
       "<tr><td>J/ApJ/700/1299/table5</td><td>Observed and synthetic log N(H) and F_*_ ( Jenkins E.B.)</td></tr>\n",
       "<tr><td>J/ApJ/774/136/table5</td><td>Parameters and global likelihood values for 15 best models ranked by likelihood ( Tzanavaris P., Fragos T., Tremmel M., Jenkins L., Zezas A., Lehmer B.D., Hornschemeier A., Kalogera V., Ptak A., Basu-Zych A.R.)</td></tr>\n",
       "<tr><td>J/ApJ/636/631/table5</td><td>Galaxies around PKS 0405-123 ( Williger G.M., Heap S.R., Weymann R.J., Dave R., Ellingson E., Carswell R.F., Tripp T.M., Jenkins E.B.)</td></tr>\n",
       "</table>"
      ],
      "text/plain": [
       "<Table length=4>\n",
       "      table_name      ...\n",
       "       bytes36        ...\n",
       "--------------------- ...\n",
       "J/A+A/621/A112/table5 ...\n",
       "J/ApJ/700/1299/table5 ...\n",
       " J/ApJ/774/136/table5 ...\n",
       " J/ApJ/636/631/table5 ..."
      ]
     },
     "execution_count": 18,
     "metadata": {},
     "output_type": "execute_result"
    }
   ],
   "source": [
    "tap_vizier = pyvo.dal.TAPService('http://tapvizier.u-strasbg.fr/TAPVizieR/tap')\n",
    "mass_psc_set = tap_vizier.search(\"SELECT  *  FROM tables \" + \n",
    "                                 \"WHERE description LIKE '%Jenkins%' \" + \n",
    "                                 \"AND table_name LIKE '%table5%'\").to_table()\n",
    "mass_psc_set['table_name', 'description']"
   ]
  },
  {
   "cell_type": "markdown",
   "metadata": {},
   "source": [
    "Now we know that we are after `J/ApJ/700/1299/table5` and we can download the entire table as follows. You could restrict your query to say H column densities above 10$^21$cm$^{-2}$"
   ]
  },
  {
   "cell_type": "code",
   "execution_count": 10,
   "metadata": {},
   "outputs": [
    {
     "name": "stdout",
     "output_type": "stream",
     "text": [
      "<class 'astropy.table.table.Table'>\n"
     ]
    },
    {
     "data": {
      "text/html": [
       "<i>Table length=239</i>\n",
       "<table id=\"table139786042990488\" class=\"table-striped table-bordered table-condensed\">\n",
       "<thead><tr><th>recno</th><th>HD</th><th>Vcomp</th><th>Name</th><th>b_logNHo</th><th>logNHo</th><th>B_logNHo</th><th>F*o</th><th>e_F*o</th><th>logNHs</th><th>e_logNHs</th><th>F*s</th><th>e_F*s</th><th>Prob</th><th>El</th></tr></thead>\n",
       "<thead><tr><th></th><th></th><th>km / s</th><th></th><th>[cm-2]</th><th>[cm-2]</th><th>[cm-2]</th><th></th><th></th><th>[cm-2]</th><th>[cm-2]</th><th></th><th></th><th></th><th></th></tr></thead>\n",
       "<thead><tr><th>int32</th><th>int32</th><th>int16</th><th>object</th><th>float64</th><th>float64</th><th>float64</th><th>float64</th><th>float64</th><th>float64</th><th>float64</th><th>float64</th><th>float64</th><th>float64</th><th>object</th></tr></thead>\n",
       "<tr><td>1</td><td>1383</td><td>0</td><td>HD 1383</td><td>21.43</td><td>21.5</td><td>21.58</td><td>0.61</td><td>0.04</td><td>21.49</td><td>0.08</td><td>0.59</td><td>0.08</td><td>0.51</td><td>O Mg Mn Ni Cu Ge</td></tr>\n",
       "<tr><td>2</td><td>2905</td><td>0</td><td>{kappa} Cas</td><td>21.17</td><td>21.29</td><td>21.4</td><td>0.58</td><td>0.06</td><td>21.0</td><td>0.26</td><td>0.41</td><td>0.14</td><td>0.989</td><td>Mg Cl Ti Mn Fe Ni Cu</td></tr>\n",
       "<tr><td>3</td><td>5394</td><td>0</td><td>{gamma} Cas</td><td>20.06</td><td>20.16</td><td>20.24</td><td>0.52</td><td>0.04</td><td>20.15</td><td>0.05</td><td>0.51</td><td>0.05</td><td>0.306</td><td>N O Mg P Cl Ti Mn Fe</td></tr>\n",
       "<tr><td>4</td><td>12323</td><td>0</td><td>HD 12323</td><td>21.21</td><td>21.29</td><td>21.36</td><td>0.52</td><td>0.04</td><td>21.24</td><td>0.08</td><td>0.48</td><td>0.07</td><td>0.011</td><td>O Mg Mn Fe Ni Cu Ge</td></tr>\n",
       "<tr><td>5</td><td>13268</td><td>0</td><td>HD 13268</td><td>21.35</td><td>21.42</td><td>21.49</td><td>0.51</td><td>0.04</td><td>21.38</td><td>0.07</td><td>0.48</td><td>0.08</td><td>0.147</td><td>O Mg Mn Ni Cu Ge</td></tr>\n",
       "<tr><td>6</td><td>13745</td><td>0</td><td>HD 13745</td><td>21.3</td><td>21.37</td><td>21.45</td><td>0.43</td><td>0.07</td><td>--</td><td>--</td><td>--</td><td>--</td><td>--</td><td>Mg Fe</td></tr>\n",
       "<tr><td>7</td><td>14434</td><td>0</td><td>HD 14434</td><td>21.4</td><td>21.47</td><td>21.54</td><td>0.52</td><td>0.04</td><td>21.45</td><td>0.09</td><td>0.51</td><td>0.09</td><td>0.301</td><td>O Mg Mn Ni Cu</td></tr>\n",
       "<tr><td>8</td><td>15137</td><td>0</td><td>HD 15137</td><td>21.1</td><td>21.22</td><td>21.35</td><td>0.37</td><td>0.09</td><td>--</td><td>--</td><td>--</td><td>--</td><td>--</td><td>Mg Fe</td></tr>\n",
       "<tr><td>9</td><td>18100</td><td>0</td><td>HD 18100</td><td>20.02</td><td>20.15</td><td>20.29</td><td>0.14</td><td>0.04</td><td>19.75</td><td>0.09</td><td>-0.21</td><td>0.08</td><td>0.0</td><td>Mg Si P Cr Mn Fe Ni Zn</td></tr>\n",
       "<tr><td>...</td><td>...</td><td>...</td><td>...</td><td>...</td><td>...</td><td>...</td><td>...</td><td>...</td><td>...</td><td>...</td><td>...</td><td>...</td><td>...</td><td>...</td></tr>\n",
       "<tr><td>230</td><td>220057</td><td>0</td><td>HD 220057</td><td>21.02</td><td>21.16</td><td>21.26</td><td>0.75</td><td>0.05</td><td>21.21</td><td>0.06</td><td>0.83</td><td>0.06</td><td>0.131</td><td>N O Mg P Mn Ni Cu Ge Kr</td></tr>\n",
       "<tr><td>231</td><td>224151</td><td>0</td><td>V373 Cas</td><td>21.4</td><td>21.46</td><td>21.52</td><td>0.46</td><td>0.04</td><td>21.4</td><td>0.04</td><td>0.42</td><td>0.05</td><td>0.666</td><td>N O Mg P Fe Kr</td></tr>\n",
       "<tr><td>232</td><td>224572</td><td>0</td><td>{sigma} Cas</td><td>20.87</td><td>20.98</td><td>21.07</td><td>0.76</td><td>0.07</td><td>21.09</td><td>0.39</td><td>0.86</td><td>0.4</td><td>0.559</td><td>Mg P Cl Mn Fe Cu</td></tr>\n",
       "<tr><td>233</td><td>232522</td><td>0</td><td>HDE 232522</td><td>21.14</td><td>21.19</td><td>21.24</td><td>0.44</td><td>0.03</td><td>21.07</td><td>0.08</td><td>0.33</td><td>0.08</td><td>0.797</td><td>O Mg Mn Ni Ge</td></tr>\n",
       "<tr><td>234</td><td>303308</td><td>0</td><td>HDE 303308</td><td>21.41</td><td>21.48</td><td>21.54</td><td>0.38</td><td>0.04</td><td>21.37</td><td>0.05</td><td>0.3</td><td>0.05</td><td>0.169</td><td>O Mg Ti Fe Kr</td></tr>\n",
       "<tr><td>235</td><td>308813</td><td>0</td><td>HDE 308813</td><td>21.21</td><td>21.29</td><td>21.36</td><td>0.49</td><td>0.04</td><td>21.22</td><td>0.08</td><td>0.43</td><td>0.08</td><td>0.679</td><td>O Mg Mn Ni Cu Ge</td></tr>\n",
       "<tr><td>236</td><td>0</td><td>0</td><td>BD +35 4258</td><td>21.2</td><td>21.3</td><td>21.39</td><td>0.4</td><td>0.08</td><td>--</td><td>--</td><td>--</td><td>--</td><td>--</td><td>Mg Fe</td></tr>\n",
       "<tr><td>237</td><td>0</td><td>0</td><td>BD +53 2820</td><td>21.31</td><td>21.39</td><td>21.47</td><td>0.43</td><td>0.05</td><td>21.23</td><td>0.1</td><td>0.27</td><td>0.09</td><td>0.204</td><td>O Mn Ni Cu Ge</td></tr>\n",
       "<tr><td>238</td><td>0</td><td>0</td><td>CPD -59 2603</td><td>21.11</td><td>21.2</td><td>21.3</td><td>0.17</td><td>0.06</td><td>--</td><td>--</td><td>--</td><td>--</td><td>--</td><td>Mg Fe</td></tr>\n",
       "<tr><td>239</td><td>0</td><td>0</td><td>CPD -69 1743</td><td>21.08</td><td>21.16</td><td>21.24</td><td>0.42</td><td>0.05</td><td>21.02</td><td>0.09</td><td>0.3</td><td>0.09</td><td>0.113</td><td>O Mn Ni Cu Ge</td></tr>\n",
       "</table>"
      ],
      "text/plain": [
       "<Table length=239>\n",
       "recno   HD   Vcomp      Name     ...  e_F*s    Prob             El          \n",
       "             km / s              ...                                        \n",
       "int32 int32  int16     object    ... float64 float64          object        \n",
       "----- ------ ------ ------------ ... ------- ------- -----------------------\n",
       "    1   1383      0      HD 1383 ...    0.08    0.51        O Mg Mn Ni Cu Ge\n",
       "    2   2905      0  {kappa} Cas ...    0.14   0.989    Mg Cl Ti Mn Fe Ni Cu\n",
       "    3   5394      0  {gamma} Cas ...    0.05   0.306    N O Mg P Cl Ti Mn Fe\n",
       "    4  12323      0     HD 12323 ...    0.07   0.011     O Mg Mn Fe Ni Cu Ge\n",
       "    5  13268      0     HD 13268 ...    0.08   0.147        O Mg Mn Ni Cu Ge\n",
       "    6  13745      0     HD 13745 ...      --      --                   Mg Fe\n",
       "    7  14434      0     HD 14434 ...    0.09   0.301           O Mg Mn Ni Cu\n",
       "    8  15137      0     HD 15137 ...      --      --                   Mg Fe\n",
       "    9  18100      0     HD 18100 ...    0.08     0.0  Mg Si P Cr Mn Fe Ni Zn\n",
       "  ...    ...    ...          ... ...     ...     ...                     ...\n",
       "  230 220057      0    HD 220057 ...    0.06   0.131 N O Mg P Mn Ni Cu Ge Kr\n",
       "  231 224151      0     V373 Cas ...    0.05   0.666          N O Mg P Fe Kr\n",
       "  232 224572      0  {sigma} Cas ...     0.4   0.559        Mg P Cl Mn Fe Cu\n",
       "  233 232522      0   HDE 232522 ...    0.08   0.797           O Mg Mn Ni Ge\n",
       "  234 303308      0   HDE 303308 ...    0.05   0.169           O Mg Ti Fe Kr\n",
       "  235 308813      0   HDE 308813 ...    0.08   0.679        O Mg Mn Ni Cu Ge\n",
       "  236      0      0  BD +35 4258 ...      --      --                   Mg Fe\n",
       "  237      0      0  BD +53 2820 ...    0.09   0.204           O Mn Ni Cu Ge\n",
       "  238      0      0 CPD -59 2603 ...      --      --                   Mg Fe\n",
       "  239      0      0 CPD -69 1743 ...    0.09   0.113           O Mn Ni Cu Ge"
      ]
     },
     "execution_count": 10,
     "metadata": {},
     "output_type": "execute_result"
    }
   ],
   "source": [
    "table5 = tap_vizier.search(\"SELECT * FROM \\\"J/ApJ/700/1299/table5\\\" \").to_table()\n",
    "print(type(table5))\n",
    "table5"
   ]
  },
  {
   "cell_type": "code",
   "execution_count": null,
   "metadata": {},
   "outputs": [],
   "source": []
  }
 ],
 "metadata": {
  "kernelspec": {
   "display_name": "Python 3",
   "language": "python",
   "name": "python3"
  },
  "language_info": {
   "codemirror_mode": {
    "name": "ipython",
    "version": 3
   },
   "file_extension": ".py",
   "mimetype": "text/x-python",
   "name": "python",
   "nbconvert_exporter": "python",
   "pygments_lexer": "ipython3",
   "version": "3.6.9"
  }
 },
 "nbformat": 4,
 "nbformat_minor": 2
}
