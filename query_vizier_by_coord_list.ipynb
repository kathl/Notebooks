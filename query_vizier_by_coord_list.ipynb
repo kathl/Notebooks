{
 "cells": [
  {
   "cell_type": "code",
   "execution_count": 3,
   "metadata": {},
   "outputs": [],
   "source": [
    "from astroquery.vizier import Vizier\n",
    "from astropy.coordinates import SkyCoord\n",
    "import astropy.units as u"
   ]
  },
  {
   "cell_type": "code",
   "execution_count": 5,
   "metadata": {},
   "outputs": [],
   "source": [
    "ra = [120.689, 150.3684, 4.9516]\n",
    "dec = [-23.4578, -65.794236, 35.5631]\n",
    "coord_list = SkyCoord(ra=ra, dec=dec, unit=u.deg)"
   ]
  },
  {
   "cell_type": "code",
   "execution_count": 6,
   "metadata": {},
   "outputs": [
    {
     "data": {
      "text/plain": [
       "<SkyCoord (ICRS): (ra, dec) in deg\n",
       "    [(120.689 , -23.4578  ), (150.3684, -65.794236),\n",
       "     (  4.9516,  35.5631  )]>"
      ]
     },
     "execution_count": 6,
     "metadata": {},
     "output_type": "execute_result"
    }
   ],
   "source": [
    "coord_list"
   ]
  },
  {
   "cell_type": "code",
   "execution_count": 8,
   "metadata": {},
   "outputs": [],
   "source": [
    "catalog_list = Vizier.find_catalogs('2MASS PSC')"
   ]
  },
  {
   "cell_type": "code",
   "execution_count": 13,
   "metadata": {},
   "outputs": [
    {
     "name": "stdout",
     "output_type": "stream",
     "text": [
      "{'II/246': '2MASS All-Sky Catalog of Point Sources (Cutri+ 2003)', 'II/281': '2MASS 6X Point Source Working Database / Catalog (Cutri+ 2006)', 'J/ApJS/184/138': 'XID II: RASS/BSC-2MASS/PSC cross-association (Haakonsen+, 2009)'}\n"
     ]
    }
   ],
   "source": [
    "print({k:v.description for k,v in catalog_list.items()})"
   ]
  },
  {
   "cell_type": "code",
   "execution_count": 10,
   "metadata": {},
   "outputs": [],
   "source": [
    "result = Vizier.query_region(coord_list, radius=0.5 * u.arcmin, catalog='II/246')"
   ]
  },
  {
   "cell_type": "code",
   "execution_count": 12,
   "metadata": {},
   "outputs": [
    {
     "data": {
      "text/html": [
       "<i>Table length=10</i>\n",
       "<table id=\"table139725496226704\" class=\"table-striped table-bordered table-condensed\">\n",
       "<thead><tr><th>_q</th><th>RAJ2000</th><th>DEJ2000</th><th>_2MASS</th><th>Jmag</th><th>e_Jmag</th><th>Hmag</th><th>e_Hmag</th><th>Kmag</th><th>e_Kmag</th><th>Qflg</th><th>Rflg</th><th>Bflg</th><th>Cflg</th><th>Xflg</th><th>Aflg</th></tr></thead>\n",
       "<thead><tr><th></th><th>deg</th><th>deg</th><th></th><th>mag</th><th>mag</th><th>mag</th><th>mag</th><th>mag</th><th>mag</th><th></th><th></th><th></th><th></th><th></th><th></th></tr></thead>\n",
       "<thead><tr><th>int32</th><th>float64</th><th>float64</th><th>bytes17</th><th>float32</th><th>float32</th><th>float32</th><th>float32</th><th>float32</th><th>float32</th><th>bytes3</th><th>bytes3</th><th>bytes3</th><th>bytes3</th><th>uint8</th><th>uint8</th></tr></thead>\n",
       "<tr><td>1</td><td>120.685300</td><td>-23.459026</td><td>08024447-2327324</td><td>15.319</td><td>0.044</td><td>14.958</td><td>0.075</td><td>14.912</td><td>0.122</td><td>AAB</td><td>222</td><td>111</td><td>000</td><td>0</td><td>0</td></tr>\n",
       "<tr><td>1</td><td>120.692687</td><td>-23.462269</td><td>08024624-2327441</td><td>16.032</td><td>0.082</td><td>15.740</td><td>0.176</td><td>15.372</td><td>0.195</td><td>ACC</td><td>222</td><td>111</td><td>000</td><td>0</td><td>0</td></tr>\n",
       "<tr><td>1</td><td>120.692854</td><td>-23.457108</td><td>08024628-2327255</td><td>14.648</td><td>0.037</td><td>14.505</td><td>0.065</td><td>14.417</td><td>0.077</td><td>AAA</td><td>222</td><td>111</td><td>000</td><td>0</td><td>0</td></tr>\n",
       "<tr><td>2</td><td>150.369660</td><td>-65.789169</td><td>10012871-6547210</td><td>14.800</td><td>0.036</td><td>14.514</td><td>0.054</td><td>14.408</td><td>0.092</td><td>AAA</td><td>222</td><td>111</td><td>000</td><td>0</td><td>0</td></tr>\n",
       "<tr><td>2</td><td>150.356646</td><td>-65.798775</td><td>10012559-6547555</td><td>16.214</td><td>0.112</td><td>15.401</td><td>0.116</td><td>15.170</td><td>0.163</td><td>BBC</td><td>222</td><td>111</td><td>000</td><td>0</td><td>0</td></tr>\n",
       "<tr><td>2</td><td>150.353369</td><td>-65.790985</td><td>10012480-6547275</td><td>15.351</td><td>0.056</td><td>14.590</td><td>0.055</td><td>14.459</td><td>0.089</td><td>AAA</td><td>222</td><td>111</td><td>000</td><td>0</td><td>0</td></tr>\n",
       "<tr><td>2</td><td>150.364223</td><td>-65.795151</td><td>10012741-6547425</td><td>16.180</td><td>0.101</td><td>15.565</td><td>0.124</td><td>15.442</td><td>0.231</td><td>ABD</td><td>222</td><td>111</td><td>000</td><td>0</td><td>0</td></tr>\n",
       "<tr><td>2</td><td>150.349593</td><td>-65.793053</td><td>10012390-6547349</td><td>16.083</td><td>0.091</td><td>15.836</td><td>0.158</td><td>15.175</td><td>--</td><td>ACU</td><td>220</td><td>110</td><td>000</td><td>0</td><td>0</td></tr>\n",
       "<tr><td>2</td><td>150.382510</td><td>-65.798416</td><td>10013180-6547542</td><td>15.816</td><td>0.078</td><td>15.439</td><td>0.121</td><td>15.109</td><td>0.164</td><td>ABC</td><td>222</td><td>111</td><td>000</td><td>0</td><td>0</td></tr>\n",
       "<tr><td>3</td><td>4.949531</td><td>35.555321</td><td>00194788+3533191</td><td>12.828</td><td>0.023</td><td>12.466</td><td>0.023</td><td>12.425</td><td>0.021</td><td>AAA</td><td>222</td><td>111</td><td>000</td><td>0</td><td>0</td></tr>\n",
       "</table>"
      ],
      "text/plain": [
       "<Table length=10>\n",
       "  _q   RAJ2000    DEJ2000        _2MASS      ...  Bflg   Cflg   Xflg  Aflg\n",
       "         deg        deg                      ...                          \n",
       "int32  float64    float64       bytes17      ... bytes3 bytes3 uint8 uint8\n",
       "----- ---------- ---------- ---------------- ... ------ ------ ----- -----\n",
       "    1 120.685300 -23.459026 08024447-2327324 ...    111    000     0     0\n",
       "    1 120.692687 -23.462269 08024624-2327441 ...    111    000     0     0\n",
       "    1 120.692854 -23.457108 08024628-2327255 ...    111    000     0     0\n",
       "    2 150.369660 -65.789169 10012871-6547210 ...    111    000     0     0\n",
       "    2 150.356646 -65.798775 10012559-6547555 ...    111    000     0     0\n",
       "    2 150.353369 -65.790985 10012480-6547275 ...    111    000     0     0\n",
       "    2 150.364223 -65.795151 10012741-6547425 ...    111    000     0     0\n",
       "    2 150.349593 -65.793053 10012390-6547349 ...    110    000     0     0\n",
       "    2 150.382510 -65.798416 10013180-6547542 ...    111    000     0     0\n",
       "    3   4.949531  35.555321 00194788+3533191 ...    111    000     0     0"
      ]
     },
     "execution_count": 12,
     "metadata": {},
     "output_type": "execute_result"
    }
   ],
   "source": [
    "result[0]"
   ]
  },
  {
   "cell_type": "code",
   "execution_count": null,
   "metadata": {},
   "outputs": [],
   "source": []
  }
 ],
 "metadata": {
  "kernelspec": {
   "display_name": "Python 3",
   "language": "python",
   "name": "python3"
  },
  "language_info": {
   "codemirror_mode": {
    "name": "ipython",
    "version": 3
   },
   "file_extension": ".py",
   "mimetype": "text/x-python",
   "name": "python",
   "nbconvert_exporter": "python",
   "pygments_lexer": "ipython3",
   "version": "3.6.9"
  }
 },
 "nbformat": 4,
 "nbformat_minor": 4
}
