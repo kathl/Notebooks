{
 "cells": [
  {
   "cell_type": "markdown",
   "metadata": {},
   "source": [
    "# Query VizieR tables by coordinates\n",
    "\n",
    "This notebook showcases, how we can use both `astroquery` and `pyVO` to query a catalogue in VizieR at different locations on the sky. \n",
    "\n",
    "## Import packages"
   ]
  },
  {
   "cell_type": "code",
   "execution_count": 1,
   "metadata": {},
   "outputs": [],
   "source": [
    "from astroquery.vizier import Vizier\n",
    "from astropy.coordinates import SkyCoord\n",
    "from astropy.table import Table\n",
    "import astropy.units as u\n",
    "import pyvo"
   ]
  },
  {
   "cell_type": "markdown",
   "metadata": {},
   "source": [
    "## Define the list of coordinates"
   ]
  },
  {
   "cell_type": "code",
   "execution_count": 2,
   "metadata": {},
   "outputs": [],
   "source": [
    "ra = [120.689, 150.3684, 4.9516]\n",
    "dec = [-23.4578, -65.794236, 35.5631]\n",
    "coord_list = SkyCoord(ra=ra, dec=dec, unit=u.deg)"
   ]
  },
  {
   "cell_type": "code",
   "execution_count": 3,
   "metadata": {},
   "outputs": [
    {
     "data": {
      "text/plain": [
       "<SkyCoord (ICRS): (ra, dec) in deg\n",
       "    [(120.689 , -23.4578  ), (150.3684, -65.794236),\n",
       "     (  4.9516,  35.5631  )]>"
      ]
     },
     "execution_count": 3,
     "metadata": {},
     "output_type": "execute_result"
    }
   ],
   "source": [
    "coord_list"
   ]
  },
  {
   "cell_type": "code",
   "execution_count": 4,
   "metadata": {},
   "outputs": [],
   "source": [
    "tab = Table([ra, dec], names=('ra_in', 'dec_in'))\n",
    "tab.write('test2.vot', format='votable', overwrite=True)"
   ]
  },
  {
   "cell_type": "code",
   "execution_count": 5,
   "metadata": {},
   "outputs": [
    {
     "data": {
      "text/html": [
       "<i>Table length=3</i>\n",
       "<table id=\"table139751970871728\" class=\"table-striped table-bordered table-condensed\">\n",
       "<thead><tr><th>ra_in</th><th>dec_in</th></tr></thead>\n",
       "<thead><tr><th>float64</th><th>float64</th></tr></thead>\n",
       "<tr><td>120.689</td><td>-23.4578</td></tr>\n",
       "<tr><td>150.3684</td><td>-65.794236</td></tr>\n",
       "<tr><td>4.9516</td><td>35.5631</td></tr>\n",
       "</table>"
      ],
      "text/plain": [
       "<Table length=3>\n",
       " ra_in     dec_in  \n",
       "float64   float64  \n",
       "-------- ----------\n",
       " 120.689   -23.4578\n",
       "150.3684 -65.794236\n",
       "  4.9516    35.5631"
      ]
     },
     "execution_count": 5,
     "metadata": {},
     "output_type": "execute_result"
    }
   ],
   "source": [
    "tab"
   ]
  },
  {
   "cell_type": "markdown",
   "metadata": {},
   "source": [
    "## Using astroquery\n",
    "In a first step we will need to find the identifier of the catalogue in VizieR. In this example here, we will want to query the 2MASS point source catalogue at different locations. "
   ]
  },
  {
   "cell_type": "code",
   "execution_count": 6,
   "metadata": {},
   "outputs": [],
   "source": [
    "catalog_list = Vizier.find_catalogs('2MASS PSC')"
   ]
  },
  {
   "cell_type": "code",
   "execution_count": 7,
   "metadata": {},
   "outputs": [
    {
     "name": "stdout",
     "output_type": "stream",
     "text": [
      "II/246 2MASS All-Sky Catalog of Point Sources (Cutri+ 2003)\n",
      "II/281 2MASS 6X Point Source Working Database / Catalog (Cutri+ 2006)\n",
      "J/ApJS/184/138 XID II: RASS/BSC-2MASS/PSC cross-association (Haakonsen+, 2009)\n"
     ]
    }
   ],
   "source": [
    "for k,v in catalog_list.items():\n",
    "    print(k, v.description)"
   ]
  },
  {
   "cell_type": "markdown",
   "metadata": {},
   "source": [
    "Now we can see that the 2MASS point source catalogue is known to VizieR as `II/246` and wen can use `query_region` to get all sources in the vicintity of our positions of interest. Note this can cause timeout errors if the list of coordinates is larger than 1000. "
   ]
  },
  {
   "cell_type": "code",
   "execution_count": 8,
   "metadata": {},
   "outputs": [],
   "source": [
    "result = Vizier.query_region(coord_list, radius=0.5 * u.arcmin, catalog='II/246')"
   ]
  },
  {
   "cell_type": "code",
   "execution_count": 9,
   "metadata": {},
   "outputs": [
    {
     "data": {
      "text/html": [
       "<i>Table length=10</i>\n",
       "<table id=\"table139751970648696\" class=\"table-striped table-bordered table-condensed\">\n",
       "<thead><tr><th>_q</th><th>RAJ2000</th><th>DEJ2000</th><th>_2MASS</th><th>Jmag</th><th>e_Jmag</th><th>Hmag</th><th>e_Hmag</th><th>Kmag</th><th>e_Kmag</th><th>Qflg</th><th>Rflg</th><th>Bflg</th><th>Cflg</th><th>Xflg</th><th>Aflg</th></tr></thead>\n",
       "<thead><tr><th></th><th>deg</th><th>deg</th><th></th><th>mag</th><th>mag</th><th>mag</th><th>mag</th><th>mag</th><th>mag</th><th></th><th></th><th></th><th></th><th></th><th></th></tr></thead>\n",
       "<thead><tr><th>int32</th><th>float64</th><th>float64</th><th>bytes17</th><th>float32</th><th>float32</th><th>float32</th><th>float32</th><th>float32</th><th>float32</th><th>bytes3</th><th>bytes3</th><th>bytes3</th><th>bytes3</th><th>uint8</th><th>uint8</th></tr></thead>\n",
       "<tr><td>1</td><td>120.685300</td><td>-23.459026</td><td>08024447-2327324</td><td>15.319</td><td>0.044</td><td>14.958</td><td>0.075</td><td>14.912</td><td>0.122</td><td>AAB</td><td>222</td><td>111</td><td>000</td><td>0</td><td>0</td></tr>\n",
       "<tr><td>1</td><td>120.692687</td><td>-23.462269</td><td>08024624-2327441</td><td>16.032</td><td>0.082</td><td>15.740</td><td>0.176</td><td>15.372</td><td>0.195</td><td>ACC</td><td>222</td><td>111</td><td>000</td><td>0</td><td>0</td></tr>\n",
       "<tr><td>1</td><td>120.692854</td><td>-23.457108</td><td>08024628-2327255</td><td>14.648</td><td>0.037</td><td>14.505</td><td>0.065</td><td>14.417</td><td>0.077</td><td>AAA</td><td>222</td><td>111</td><td>000</td><td>0</td><td>0</td></tr>\n",
       "<tr><td>2</td><td>150.369660</td><td>-65.789169</td><td>10012871-6547210</td><td>14.800</td><td>0.036</td><td>14.514</td><td>0.054</td><td>14.408</td><td>0.092</td><td>AAA</td><td>222</td><td>111</td><td>000</td><td>0</td><td>0</td></tr>\n",
       "<tr><td>2</td><td>150.356646</td><td>-65.798775</td><td>10012559-6547555</td><td>16.214</td><td>0.112</td><td>15.401</td><td>0.116</td><td>15.170</td><td>0.163</td><td>BBC</td><td>222</td><td>111</td><td>000</td><td>0</td><td>0</td></tr>\n",
       "<tr><td>2</td><td>150.353369</td><td>-65.790985</td><td>10012480-6547275</td><td>15.351</td><td>0.056</td><td>14.590</td><td>0.055</td><td>14.459</td><td>0.089</td><td>AAA</td><td>222</td><td>111</td><td>000</td><td>0</td><td>0</td></tr>\n",
       "<tr><td>2</td><td>150.364223</td><td>-65.795151</td><td>10012741-6547425</td><td>16.180</td><td>0.101</td><td>15.565</td><td>0.124</td><td>15.442</td><td>0.231</td><td>ABD</td><td>222</td><td>111</td><td>000</td><td>0</td><td>0</td></tr>\n",
       "<tr><td>2</td><td>150.349593</td><td>-65.793053</td><td>10012390-6547349</td><td>16.083</td><td>0.091</td><td>15.836</td><td>0.158</td><td>15.175</td><td>--</td><td>ACU</td><td>220</td><td>110</td><td>000</td><td>0</td><td>0</td></tr>\n",
       "<tr><td>2</td><td>150.382510</td><td>-65.798416</td><td>10013180-6547542</td><td>15.816</td><td>0.078</td><td>15.439</td><td>0.121</td><td>15.109</td><td>0.164</td><td>ABC</td><td>222</td><td>111</td><td>000</td><td>0</td><td>0</td></tr>\n",
       "<tr><td>3</td><td>4.949531</td><td>35.555321</td><td>00194788+3533191</td><td>12.828</td><td>0.023</td><td>12.466</td><td>0.023</td><td>12.425</td><td>0.021</td><td>AAA</td><td>222</td><td>111</td><td>000</td><td>0</td><td>0</td></tr>\n",
       "</table>"
      ],
      "text/plain": [
       "<Table length=10>\n",
       "  _q   RAJ2000    DEJ2000        _2MASS      ...  Bflg   Cflg   Xflg  Aflg\n",
       "         deg        deg                      ...                          \n",
       "int32  float64    float64       bytes17      ... bytes3 bytes3 uint8 uint8\n",
       "----- ---------- ---------- ---------------- ... ------ ------ ----- -----\n",
       "    1 120.685300 -23.459026 08024447-2327324 ...    111    000     0     0\n",
       "    1 120.692687 -23.462269 08024624-2327441 ...    111    000     0     0\n",
       "    1 120.692854 -23.457108 08024628-2327255 ...    111    000     0     0\n",
       "    2 150.369660 -65.789169 10012871-6547210 ...    111    000     0     0\n",
       "    2 150.356646 -65.798775 10012559-6547555 ...    111    000     0     0\n",
       "    2 150.353369 -65.790985 10012480-6547275 ...    111    000     0     0\n",
       "    2 150.364223 -65.795151 10012741-6547425 ...    111    000     0     0\n",
       "    2 150.349593 -65.793053 10012390-6547349 ...    110    000     0     0\n",
       "    2 150.382510 -65.798416 10013180-6547542 ...    111    000     0     0\n",
       "    3   4.949531  35.555321 00194788+3533191 ...    111    000     0     0"
      ]
     },
     "execution_count": 9,
     "metadata": {},
     "output_type": "execute_result"
    }
   ],
   "source": [
    "result[0]"
   ]
  },
  {
   "cell_type": "markdown",
   "metadata": {},
   "source": [
    "## Using pyVO\n",
    "This example shows how we can use the TAP module of pyVO to query VizieR around our list of coordinates. For this exercise we need the coordinates either in an `astropy.table.Table` object or saved in a VOTable. First we declare the TAP server that we want to query:"
   ]
  },
  {
   "cell_type": "code",
   "execution_count": 10,
   "metadata": {},
   "outputs": [],
   "source": [
    "viz = pyvo.dal.TAPService('http://TAPVizieR.u-strasbg.fr/TAPVizieR/tap')"
   ]
  },
  {
   "cell_type": "markdown",
   "metadata": {},
   "source": [
    "Next we define the ADQL query, which we want to run:"
   ]
  },
  {
   "cell_type": "code",
   "execution_count": 11,
   "metadata": {},
   "outputs": [],
   "source": [
    "query = \"SELECT tm.\\\"2MASS\\\", tm.RAJ2000, tm.DEJ2000, my_input.ra_in, my_input.dec_in \" + \\\n",
    "        \"FROM \\\"II/246/out\\\" as tm  \" + \\\n",
    "        \"JOIN TAP_UPLOAD.mytab as my_input \" + \\\n",
    "        \"ON 1=CONTAINS(POINT('ICRS', tm.RAJ2000, tm.DEJ2000),  \" + \\\n",
    "        \"              CIRCLE('ICRS', my_input.ra_in, my_input.dec_in, 0.5/60 )) \""
   ]
  },
  {
   "cell_type": "markdown",
   "metadata": {},
   "source": [
    "Then we run the query. For large tables of coordinates, we might be interested in asynchronous queries but for some reason `run_async` does not work for me at the moment... "
   ]
  },
  {
   "cell_type": "code",
   "execution_count": 12,
   "metadata": {
    "scrolled": false
   },
   "outputs": [],
   "source": [
    "results = viz.run_sync(query, uploads={'mytab': tab})"
   ]
  },
  {
   "cell_type": "code",
   "execution_count": 13,
   "metadata": {},
   "outputs": [
    {
     "data": {
      "text/plain": [
       "<Table length=10>\n",
       "     2MASS        RAJ2000    DEJ2000    ra_in     dec_in  \n",
       "                    deg        deg                        \n",
       "    bytes17       float64    float64   float64   float64  \n",
       "---------------- ---------- ---------- -------- ----------\n",
       "08024624-2327441 120.692687 -23.462269  120.689   -23.4578\n",
       "08024447-2327324   120.6853 -23.459026  120.689   -23.4578\n",
       "08024628-2327255 120.692854 -23.457108  120.689   -23.4578\n",
       "10012559-6547555 150.356646 -65.798775 150.3684 -65.794236\n",
       "10012741-6547425 150.364223 -65.795151 150.3684 -65.794236\n",
       "10013180-6547542  150.38251 -65.798416 150.3684 -65.794236\n",
       "10012871-6547210  150.36966 -65.789169 150.3684 -65.794236\n",
       "10012390-6547349 150.349593 -65.793053 150.3684 -65.794236\n",
       "10012480-6547275 150.353369 -65.790985 150.3684 -65.794236\n",
       "00194788+3533191   4.949531  35.555321   4.9516    35.5631"
      ]
     },
     "execution_count": 13,
     "metadata": {},
     "output_type": "execute_result"
    }
   ],
   "source": [
    "results"
   ]
  },
  {
   "cell_type": "markdown",
   "metadata": {},
   "source": [
    "Now trying to use the asynchronous TAP query, which should be better for large queries:"
   ]
  },
  {
   "cell_type": "code",
   "execution_count": 14,
   "metadata": {},
   "outputs": [
    {
     "name": "stderr",
     "output_type": "stream",
     "text": [
      "WARNING: UnknownElementWarning: None:25:1: UnknownElementWarning: Unknown element errorSummary [pyvo.utils.xml.elements]\n",
      "WARNING: UnknownElementWarning: None:26:2: UnknownElementWarning: Unknown element message [pyvo.utils.xml.elements]\n"
     ]
    },
    {
     "ename": "DALQueryError",
     "evalue": "Query Error",
     "output_type": "error",
     "traceback": [
      "\u001b[0;31m---------------------------------------------------------------------------\u001b[0m",
      "\u001b[0;31mDALQueryError\u001b[0m                             Traceback (most recent call last)",
      "\u001b[0;32m<ipython-input-14-069024097f75>\u001b[0m in \u001b[0;36m<module>\u001b[0;34m\u001b[0m\n\u001b[0;32m----> 1\u001b[0;31m \u001b[0mresults\u001b[0m \u001b[0;34m=\u001b[0m \u001b[0mviz\u001b[0m\u001b[0;34m.\u001b[0m\u001b[0mrun_async\u001b[0m\u001b[0;34m(\u001b[0m\u001b[0mquery\u001b[0m\u001b[0;34m,\u001b[0m \u001b[0muploads\u001b[0m\u001b[0;34m=\u001b[0m\u001b[0;34m{\u001b[0m\u001b[0;34m'mytab'\u001b[0m\u001b[0;34m:\u001b[0m \u001b[0mtab\u001b[0m\u001b[0;34m}\u001b[0m\u001b[0;34m)\u001b[0m\u001b[0;34m\u001b[0m\u001b[0;34m\u001b[0m\u001b[0m\n\u001b[0m",
      "\u001b[0;32m/usr/local/lib/python3.6/dist-packages/pyvo/dal/tap.py\u001b[0m in \u001b[0;36mrun_async\u001b[0;34m(self, query, language, maxrec, uploads, **keywords)\u001b[0m\n\u001b[1;32m    260\u001b[0m             self.baseurl, query, language, maxrec, uploads, self._session, **keywords)\n\u001b[1;32m    261\u001b[0m         \u001b[0mjob\u001b[0m \u001b[0;34m=\u001b[0m \u001b[0mjob\u001b[0m\u001b[0;34m.\u001b[0m\u001b[0mrun\u001b[0m\u001b[0;34m(\u001b[0m\u001b[0;34m)\u001b[0m\u001b[0;34m.\u001b[0m\u001b[0mwait\u001b[0m\u001b[0;34m(\u001b[0m\u001b[0;34m)\u001b[0m\u001b[0;34m\u001b[0m\u001b[0;34m\u001b[0m\u001b[0m\n\u001b[0;32m--> 262\u001b[0;31m         \u001b[0mjob\u001b[0m\u001b[0;34m.\u001b[0m\u001b[0mraise_if_error\u001b[0m\u001b[0;34m(\u001b[0m\u001b[0;34m)\u001b[0m\u001b[0;34m\u001b[0m\u001b[0;34m\u001b[0m\u001b[0m\n\u001b[0m\u001b[1;32m    263\u001b[0m         \u001b[0mresult\u001b[0m \u001b[0;34m=\u001b[0m \u001b[0mjob\u001b[0m\u001b[0;34m.\u001b[0m\u001b[0mfetch_result\u001b[0m\u001b[0;34m(\u001b[0m\u001b[0;34m)\u001b[0m\u001b[0;34m\u001b[0m\u001b[0;34m\u001b[0m\u001b[0m\n\u001b[1;32m    264\u001b[0m         \u001b[0mjob\u001b[0m\u001b[0;34m.\u001b[0m\u001b[0mdelete\u001b[0m\u001b[0;34m(\u001b[0m\u001b[0;34m)\u001b[0m\u001b[0;34m\u001b[0m\u001b[0;34m\u001b[0m\u001b[0m\n",
      "\u001b[0;32m/usr/local/lib/python3.6/dist-packages/pyvo/dal/tap.py\u001b[0m in \u001b[0;36mraise_if_error\u001b[0;34m(self)\u001b[0m\n\u001b[1;32m    788\u001b[0m         \"\"\"\n\u001b[1;32m    789\u001b[0m         \u001b[0;32mif\u001b[0m \u001b[0mself\u001b[0m\u001b[0;34m.\u001b[0m\u001b[0mphase\u001b[0m \u001b[0;32min\u001b[0m \u001b[0;34m{\u001b[0m\u001b[0;34m\"ERROR\"\u001b[0m\u001b[0;34m,\u001b[0m \u001b[0;34m\"ABORTED\"\u001b[0m\u001b[0;34m}\u001b[0m\u001b[0;34m:\u001b[0m\u001b[0;34m\u001b[0m\u001b[0;34m\u001b[0m\u001b[0m\n\u001b[0;32m--> 790\u001b[0;31m             \u001b[0;32mraise\u001b[0m \u001b[0mDALQueryError\u001b[0m\u001b[0;34m(\u001b[0m\u001b[0;34m\"Query Error\"\u001b[0m\u001b[0;34m,\u001b[0m \u001b[0mself\u001b[0m\u001b[0;34m.\u001b[0m\u001b[0mphase\u001b[0m\u001b[0;34m,\u001b[0m \u001b[0mself\u001b[0m\u001b[0;34m.\u001b[0m\u001b[0murl\u001b[0m\u001b[0;34m)\u001b[0m\u001b[0;34m\u001b[0m\u001b[0;34m\u001b[0m\u001b[0m\n\u001b[0m\u001b[1;32m    791\u001b[0m \u001b[0;34m\u001b[0m\u001b[0m\n\u001b[1;32m    792\u001b[0m     \u001b[0;32mdef\u001b[0m \u001b[0mfetch_result\u001b[0m\u001b[0;34m(\u001b[0m\u001b[0mself\u001b[0m\u001b[0;34m)\u001b[0m\u001b[0;34m:\u001b[0m\u001b[0;34m\u001b[0m\u001b[0;34m\u001b[0m\u001b[0m\n",
      "\u001b[0;31mDALQueryError\u001b[0m: Query Error"
     ]
    }
   ],
   "source": [
    "results = viz.run_async(query, uploads={'mytab': tab})"
   ]
  }
 ],
 "metadata": {
  "kernelspec": {
   "display_name": "Python 3",
   "language": "python",
   "name": "python3"
  },
  "language_info": {
   "codemirror_mode": {
    "name": "ipython",
    "version": 3
   },
   "file_extension": ".py",
   "mimetype": "text/x-python",
   "name": "python",
   "nbconvert_exporter": "python",
   "pygments_lexer": "ipython3",
   "version": "3.6.9"
  }
 },
 "nbformat": 4,
 "nbformat_minor": 4
}
